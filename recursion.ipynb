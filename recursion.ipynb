{
 "cells": [
  {
   "cell_type": "code",
   "execution_count": 10,
   "metadata": {},
   "outputs": [],
   "source": [
    "move = lambda f, t : print(\"Move disc from {} to {}\".format(f, t))"
   ]
  },
  {
   "cell_type": "code",
   "execution_count": 11,
   "metadata": {},
   "outputs": [
    {
     "name": "stdout",
     "output_type": "stream",
     "text": [
      "Move disc from A to C\n"
     ]
    }
   ],
   "source": [
    "move(\"A\", \"C\")"
   ]
  },
  {
   "cell_type": "code",
   "execution_count": 21,
   "metadata": {},
   "outputs": [],
   "source": [
    "def moveVia(f, v, t) :\n",
    "    move(f, v)\n",
    "    move(v, t)"
   ]
  },
  {
   "cell_type": "code",
   "execution_count": 22,
   "metadata": {},
   "outputs": [
    {
     "name": "stdout",
     "output_type": "stream",
     "text": [
      "Move disc from A to B\n",
      "Move disc from B to C\n"
     ]
    }
   ],
   "source": [
    "moveVia(\"A\", \"B\", \"C\")"
   ]
  },
  {
   "cell_type": "code",
   "execution_count": 24,
   "metadata": {},
   "outputs": [],
   "source": [
    "def hanoi(n, f, h, t) :\n",
    "    if n == 0 :\n",
    "        pass\n",
    "    else :\n",
    "        hanoi(n - 1, f, t, h)\n",
    "        move(f, t)\n",
    "        hanoi(n - 1, h, f, t)"
   ]
  },
  {
   "cell_type": "code",
   "execution_count": 25,
   "metadata": {},
   "outputs": [
    {
     "name": "stdout",
     "output_type": "stream",
     "text": [
      "Move disc from A to B\n",
      "Move disc from A to C\n",
      "Move disc from B to C\n",
      "Move disc from A to B\n",
      "Move disc from C to A\n",
      "Move disc from C to B\n",
      "Move disc from A to B\n",
      "Move disc from A to C\n",
      "Move disc from B to C\n",
      "Move disc from B to A\n",
      "Move disc from C to A\n",
      "Move disc from B to C\n",
      "Move disc from A to B\n",
      "Move disc from A to C\n",
      "Move disc from B to C\n"
     ]
    }
   ],
   "source": [
    "hanoi(4, \"A\", \"B\", \"C\")"
   ]
  }
 ],
 "metadata": {
  "kernelspec": {
   "display_name": "Python 3",
   "language": "python",
   "name": "python3"
  },
  "language_info": {
   "codemirror_mode": {
    "name": "ipython",
    "version": 3
   },
   "file_extension": ".py",
   "mimetype": "text/x-python",
   "name": "python",
   "nbconvert_exporter": "python",
   "pygments_lexer": "ipython3",
   "version": "3.7.4"
  }
 },
 "nbformat": 4,
 "nbformat_minor": 2
}
